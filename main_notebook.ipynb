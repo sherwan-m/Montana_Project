{
 "cells": [
  {
   "cell_type": "code",
   "execution_count": 75,
   "metadata": {},
   "outputs": [],
   "source": [
    "import numpy as np\n",
    "import seaborn as sns\n",
    "import pandas as pd\n",
    "import matplotlib.pyplot as plt\n",
    "import random\n",
    "from scipy import stats\n",
    "\n"
   ]
  },
  {
   "cell_type": "code",
   "execution_count": 20,
   "metadata": {},
   "outputs": [],
   "source": [
    "path1 = './CrazyEgg/HomepageV1-Interact/'\n",
    "version1_interact = pd.read_csv(path1 + 'Element list Homepage Version 1 - Interact, 5-29-2013.csv')\n",
    "\n",
    "path2 = './CrazyEgg/HomepageV2-Connect/'\n",
    "version2_connect = pd.read_csv(path2 + 'Element list Homepage Version 2 - Connect, 5-29-2013.csv')\n",
    "\n",
    "path3 = './CrazyEgg/HomepageV3-Learn/'\n",
    "version3_learn = pd.read_csv(path3 + 'Element list Homepage Version 3 - Learn, 5-29-2013.csv')\n",
    "\n",
    "path4 = './CrazyEgg/HomepageV4-Help/'\n",
    "version4_help = pd.read_csv(path4 + 'Element list Homepage Version 4 - Help, 5-29-2013.csv')\n",
    "\n",
    "path5 = './CrazyEgg/HomepageV5-Services/'\n",
    "version5_services = pd.read_csv(path5 + 'Element list Homepage Version 5 - Services, 5-29-2013.csv')\n"
   ]
  },
  {
   "cell_type": "code",
   "execution_count": 21,
   "metadata": {},
   "outputs": [],
   "source": [
    "data= []\n",
    "data.append(version1_interact)\n",
    "data.append(version2_connect)\n",
    "data.append(version3_learn)\n",
    "data.append(version4_help)\n",
    "data.append(version5_services)"
   ]
  },
  {
   "cell_type": "code",
   "execution_count": 33,
   "metadata": {},
   "outputs": [
    {
     "data": {
      "text/html": [
       "<div>\n",
       "<style scoped>\n",
       "    .dataframe tbody tr th:only-of-type {\n",
       "        vertical-align: middle;\n",
       "    }\n",
       "\n",
       "    .dataframe tbody tr th {\n",
       "        vertical-align: top;\n",
       "    }\n",
       "\n",
       "    .dataframe thead th {\n",
       "        text-align: right;\n",
       "    }\n",
       "</style>\n",
       "<table border=\"1\" class=\"dataframe\">\n",
       "  <thead>\n",
       "    <tr style=\"text-align: right;\">\n",
       "      <th></th>\n",
       "      <th>Element ID</th>\n",
       "      <th>Tag name</th>\n",
       "      <th>Name</th>\n",
       "      <th>No. clicks</th>\n",
       "      <th>Visible?</th>\n",
       "      <th>Snapshot information</th>\n",
       "    </tr>\n",
       "  </thead>\n",
       "  <tbody>\n",
       "    <tr>\n",
       "      <th>0</th>\n",
       "      <td>128</td>\n",
       "      <td>area</td>\n",
       "      <td>Montana State University - Home</td>\n",
       "      <td>1291</td>\n",
       "      <td>False</td>\n",
       "      <td>Homepage Version 1 - Interact   •   http://www...</td>\n",
       "    </tr>\n",
       "    <tr>\n",
       "      <th>1</th>\n",
       "      <td>69</td>\n",
       "      <td>a</td>\n",
       "      <td>FIND</td>\n",
       "      <td>842</td>\n",
       "      <td>True</td>\n",
       "      <td>created 5-29-2013   •   20 days 4 hours 21 min...</td>\n",
       "    </tr>\n",
       "    <tr>\n",
       "      <th>2</th>\n",
       "      <td>61</td>\n",
       "      <td>input</td>\n",
       "      <td>s.q</td>\n",
       "      <td>508</td>\n",
       "      <td>True</td>\n",
       "      <td>NaN</td>\n",
       "    </tr>\n",
       "    <tr>\n",
       "      <th>3</th>\n",
       "      <td>67</td>\n",
       "      <td>a</td>\n",
       "      <td>lib.montana.edu/find/</td>\n",
       "      <td>166</td>\n",
       "      <td>True</td>\n",
       "      <td>NaN</td>\n",
       "    </tr>\n",
       "    <tr>\n",
       "      <th>4</th>\n",
       "      <td>78</td>\n",
       "      <td>a</td>\n",
       "      <td>REQUEST</td>\n",
       "      <td>151</td>\n",
       "      <td>True</td>\n",
       "      <td>NaN</td>\n",
       "    </tr>\n",
       "    <tr>\n",
       "      <th>5</th>\n",
       "      <td>98</td>\n",
       "      <td>a</td>\n",
       "      <td>Hours</td>\n",
       "      <td>102</td>\n",
       "      <td>True</td>\n",
       "      <td>NaN</td>\n",
       "    </tr>\n",
       "    <tr>\n",
       "      <th>6</th>\n",
       "      <td>62</td>\n",
       "      <td>button</td>\n",
       "      <td>Search</td>\n",
       "      <td>101</td>\n",
       "      <td>True</td>\n",
       "      <td>NaN</td>\n",
       "    </tr>\n",
       "    <tr>\n",
       "      <th>7</th>\n",
       "      <td>118</td>\n",
       "      <td>a</td>\n",
       "      <td>MSU</td>\n",
       "      <td>55</td>\n",
       "      <td>True</td>\n",
       "      <td>NaN</td>\n",
       "    </tr>\n",
       "    <tr>\n",
       "      <th>8</th>\n",
       "      <td>50</td>\n",
       "      <td>span</td>\n",
       "      <td>nav-item-dot</td>\n",
       "      <td>46</td>\n",
       "      <td>True</td>\n",
       "      <td>NaN</td>\n",
       "    </tr>\n",
       "    <tr>\n",
       "      <th>9</th>\n",
       "      <td>87</td>\n",
       "      <td>a</td>\n",
       "      <td>INTERACT</td>\n",
       "      <td>42</td>\n",
       "      <td>True</td>\n",
       "      <td>NaN</td>\n",
       "    </tr>\n",
       "    <tr>\n",
       "      <th>10</th>\n",
       "      <td>76</td>\n",
       "      <td>a</td>\n",
       "      <td>lib.montana.edu/request/</td>\n",
       "      <td>38</td>\n",
       "      <td>True</td>\n",
       "      <td>NaN</td>\n",
       "    </tr>\n",
       "    <tr>\n",
       "      <th>11</th>\n",
       "      <td>96</td>\n",
       "      <td>a</td>\n",
       "      <td>News</td>\n",
       "      <td>36</td>\n",
       "      <td>True</td>\n",
       "      <td>NaN</td>\n",
       "    </tr>\n",
       "    <tr>\n",
       "      <th>12</th>\n",
       "      <td>85</td>\n",
       "      <td>a</td>\n",
       "      <td>lib.montana.edu/interact/</td>\n",
       "      <td>27</td>\n",
       "      <td>True</td>\n",
       "      <td>NaN</td>\n",
       "    </tr>\n",
       "    <tr>\n",
       "      <th>13</th>\n",
       "      <td>30</td>\n",
       "      <td>a</td>\n",
       "      <td>slideshow-right</td>\n",
       "      <td>19</td>\n",
       "      <td>True</td>\n",
       "      <td>NaN</td>\n",
       "    </tr>\n",
       "    <tr>\n",
       "      <th>14</th>\n",
       "      <td>73</td>\n",
       "      <td>p</td>\n",
       "      <td>Find research materials, including articles, b...</td>\n",
       "      <td>19</td>\n",
       "      <td>True</td>\n",
       "      <td>NaN</td>\n",
       "    </tr>\n",
       "    <tr>\n",
       "      <th>15</th>\n",
       "      <td>64</td>\n",
       "      <td>a</td>\n",
       "      <td>Advanced Search</td>\n",
       "      <td>17</td>\n",
       "      <td>True</td>\n",
       "      <td>NaN</td>\n",
       "    </tr>\n",
       "    <tr>\n",
       "      <th>16</th>\n",
       "      <td>6</td>\n",
       "      <td>a</td>\n",
       "      <td>Ask A Librarian</td>\n",
       "      <td>16</td>\n",
       "      <td>True</td>\n",
       "      <td>NaN</td>\n",
       "    </tr>\n",
       "    <tr>\n",
       "      <th>17</th>\n",
       "      <td>107</td>\n",
       "      <td>a</td>\n",
       "      <td>6/17 Library Workshop: EndNote Web Basics</td>\n",
       "      <td>15</td>\n",
       "      <td>True</td>\n",
       "      <td>NaN</td>\n",
       "    </tr>\n",
       "    <tr>\n",
       "      <th>18</th>\n",
       "      <td>29</td>\n",
       "      <td>a</td>\n",
       "      <td>slideshow-left</td>\n",
       "      <td>14</td>\n",
       "      <td>True</td>\n",
       "      <td>NaN</td>\n",
       "    </tr>\n",
       "    <tr>\n",
       "      <th>19</th>\n",
       "      <td>119</td>\n",
       "      <td>a</td>\n",
       "      <td>About MSU Library</td>\n",
       "      <td>13</td>\n",
       "      <td>True</td>\n",
       "      <td>NaN</td>\n",
       "    </tr>\n",
       "  </tbody>\n",
       "</table>\n",
       "</div>"
      ],
      "text/plain": [
       "    Element ID Tag name                                               Name  \\\n",
       "0          128     area                    Montana State University - Home   \n",
       "1           69        a                                               FIND   \n",
       "2           61    input                                                s.q   \n",
       "3           67        a                              lib.montana.edu/find/   \n",
       "4           78        a                                            REQUEST   \n",
       "5           98        a                                              Hours   \n",
       "6           62   button                                             Search   \n",
       "7          118        a                                                MSU   \n",
       "8           50     span                                       nav-item-dot   \n",
       "9           87        a                                           INTERACT   \n",
       "10          76        a                           lib.montana.edu/request/   \n",
       "11          96        a                                               News   \n",
       "12          85        a                          lib.montana.edu/interact/   \n",
       "13          30        a                                    slideshow-right   \n",
       "14          73        p  Find research materials, including articles, b...   \n",
       "15          64        a                                    Advanced Search   \n",
       "16           6        a                                    Ask A Librarian   \n",
       "17         107        a          6/17 Library Workshop: EndNote Web Basics   \n",
       "18          29        a                                     slideshow-left   \n",
       "19         119        a                                  About MSU Library   \n",
       "\n",
       "    No. clicks  Visible?                               Snapshot information  \n",
       "0         1291     False  Homepage Version 1 - Interact   •   http://www...  \n",
       "1          842      True  created 5-29-2013   •   20 days 4 hours 21 min...  \n",
       "2          508      True                                                NaN  \n",
       "3          166      True                                                NaN  \n",
       "4          151      True                                                NaN  \n",
       "5          102      True                                                NaN  \n",
       "6          101      True                                                NaN  \n",
       "7           55      True                                                NaN  \n",
       "8           46      True                                                NaN  \n",
       "9           42      True                                                NaN  \n",
       "10          38      True                                                NaN  \n",
       "11          36      True                                                NaN  \n",
       "12          27      True                                                NaN  \n",
       "13          19      True                                                NaN  \n",
       "14          19      True                                                NaN  \n",
       "15          17      True                                                NaN  \n",
       "16          16      True                                                NaN  \n",
       "17          15      True                                                NaN  \n",
       "18          14      True                                                NaN  \n",
       "19          13      True                                                NaN  "
      ]
     },
     "execution_count": 33,
     "metadata": {},
     "output_type": "execute_result"
    }
   ],
   "source": [
    "data[0].head(20)"
   ]
  },
  {
   "cell_type": "code",
   "execution_count": 77,
   "metadata": {},
   "outputs": [
    {
     "name": "stdout",
     "output_type": "stream",
     "text": [
      "<class 'pandas.core.frame.DataFrame'>\n",
      "Index: 2 entries, Click to No-click\n",
      "Data columns (total 5 columns):\n",
      " #   Column    Non-Null Count  Dtype\n",
      "---  ------    --------------  -----\n",
      " 0   INTERACT  2 non-null      int64\n",
      " 1   CONNECT   2 non-null      int64\n",
      " 2   LEARN     2 non-null      int64\n",
      " 3   HELP      2 non-null      int64\n",
      " 4   SERVICES  2 non-null      int64\n",
      "dtypes: int64(5)\n",
      "memory usage: 96.0+ bytes\n"
     ]
    }
   ],
   "source": [
    "# observed results\n",
    "Click = []\n",
    "No_click = []\n",
    "\n",
    "versions_name = ['INTERACT', 'CONNECT', 'LEARN', 'HELP', 'SERVICES']\n",
    "v_n=0\n",
    "for version in data:\n",
    "    Click.append(version.loc[lambda df_ : df_['Name']== versions_name[v_n], 'No. clicks'].sum())\n",
    "    No_click.append(version.loc[lambda df_ : df_['Name']!= versions_name[v_n], 'No. clicks'].sum())\n",
    "    v_n+=1\n",
    "observed = pd.DataFrame([Click, No_click],\n",
    "                           columns = versions_name,\n",
    "                           index = [\"Click\", \"No-click\"])\n",
    "observed.info()"
   ]
  },
  {
   "cell_type": "code",
   "execution_count": 111,
   "metadata": {},
   "outputs": [
    {
     "name": "stdout",
     "output_type": "stream",
     "text": [
      "46.33660181942126\n",
      "2.0959498129984563e-09\n",
      "[[  73.77580355   31.5245558    32.81573168   34.10690757   26.7770014 ]\n",
      " [3640.22419645 1555.4754442  1619.18426832 1682.89309243 1321.2229986 ]]\n"
     ]
    }
   ],
   "source": [
    "chisq, pvalue, df, expected = stats.chi2_contingency(observed)\n",
    "print(chisq)\n",
    "print(pvalue)\n",
    "print(expected)"
   ]
  },
  {
   "cell_type": "code",
   "execution_count": 120,
   "metadata": {},
   "outputs": [
    {
     "data": {
      "text/html": [
       "<div>\n",
       "<style scoped>\n",
       "    .dataframe tbody tr th:only-of-type {\n",
       "        vertical-align: middle;\n",
       "    }\n",
       "\n",
       "    .dataframe tbody tr th {\n",
       "        vertical-align: top;\n",
       "    }\n",
       "\n",
       "    .dataframe thead th {\n",
       "        text-align: right;\n",
       "    }\n",
       "</style>\n",
       "<table border=\"1\" class=\"dataframe\">\n",
       "  <thead>\n",
       "    <tr style=\"text-align: right;\">\n",
       "      <th></th>\n",
       "      <th>INTERACT</th>\n",
       "      <th>CONNECT</th>\n",
       "      <th>LEARN</th>\n",
       "      <th>HELP</th>\n",
       "      <th>SERVICES</th>\n",
       "    </tr>\n",
       "  </thead>\n",
       "  <tbody>\n",
       "    <tr>\n",
       "      <th>Click</th>\n",
       "      <td>74.419798</td>\n",
       "      <td>31.089317</td>\n",
       "      <td>33.055199</td>\n",
       "      <td>34.028007</td>\n",
       "      <td>26.407679</td>\n",
       "    </tr>\n",
       "    <tr>\n",
       "      <th>No-click</th>\n",
       "      <td>3672.000000</td>\n",
       "      <td>1534.000000</td>\n",
       "      <td>1631.000000</td>\n",
       "      <td>1679.000000</td>\n",
       "      <td>1303.000000</td>\n",
       "    </tr>\n",
       "  </tbody>\n",
       "</table>\n",
       "</div>"
      ],
      "text/plain": [
       "             INTERACT      CONNECT        LEARN         HELP     SERVICES\n",
       "Click       74.419798    31.089317    33.055199    34.028007    26.407679\n",
       "No-click  3672.000000  1534.000000  1631.000000  1679.000000  1303.000000"
      ]
     },
     "execution_count": 120,
     "metadata": {},
     "output_type": "execute_result"
    }
   ],
   "source": [
    "# expected results\n",
    "sum_exp_clicks = np.sum(Click)\n",
    "sum_exp_no_click = np.sum(No_click)\n",
    "exp_clicks = []\n",
    "exp_no_click =[]\n",
    "for i in range(observed.shape[1]):\n",
    "    exp_clicks.append(sum_exp_clicks*(observed.iloc[1][i]/sum_exp_no_click))\n",
    "    exp_no_click.append(observed.iloc[1][i])\n",
    "\n",
    "expected = pd.DataFrame([exp_clicks, exp_no_click],\n",
    "                           columns = versions_name,\n",
    "                           index = [\"Click\", \"No-click\"])\n",
    "expected"
   ]
  },
  {
   "cell_type": "code",
   "execution_count": 122,
   "metadata": {},
   "outputs": [
    {
     "data": {
      "text/plain": [
       "3746.4197983501376"
      ]
     },
     "execution_count": 122,
     "metadata": {},
     "output_type": "execute_result"
    }
   ],
   "source": []
  },
  {
   "cell_type": "code",
   "execution_count": 109,
   "metadata": {},
   "outputs": [
    {
     "data": {
      "text/plain": [
       "47.515144581655456"
      ]
     },
     "execution_count": 109,
     "metadata": {},
     "output_type": "execute_result"
    }
   ],
   "source": [
    "alpha = 0.1\n",
    "\n",
    "R = (observed - expected)/np.sqrt(expected)\n",
    "R = R**2\n",
    "chi2observed = R.values.sum()\n",
    "chi2observed"
   ]
  },
  {
   "cell_type": "code",
   "execution_count": 113,
   "metadata": {},
   "outputs": [
    {
     "data": {
      "text/plain": [
       "Click        199\n",
       "No-click    9819\n",
       "dtype: int64"
      ]
     },
     "execution_count": 113,
     "metadata": {},
     "output_type": "execute_result"
    }
   ],
   "source": [
    "# create a \"box\" with 34 clicks (1) and 2966 no-clicks (0)\n",
    "sum_all_clicks =  observed.sum(axis=1)\n",
    "# sum_all_clicks\n",
    "box = [1] * sum_all_clicks[0]\n",
    "box.extend([0]*sum_all_clicks[1])\n",
    "random.shuffle(box)\n"
   ]
  },
  {
   "cell_type": "code",
   "execution_count": 126,
   "metadata": {},
   "outputs": [],
   "source": [
    "chi_scores = []\n",
    "\n",
    "sample_no = [Click[i]+No_click[i] for i in range(5)]\n",
    "# expected results\n",
    "# expected = pd.DataFrame([[34/3, 34/3, 34/3], [1000 - 34/3, 1000 - 34/3, 1000 - 34/3]],\n",
    "#                            columns = [\"A\", \"B\", \"C\"],\n",
    "#                            index = [\"Click\", \"No-click\"])\n",
    "\n",
    "for i in range(10000):\n",
    "    random.shuffle(box)\n",
    "\n",
    "    sample_clicks = [np.sum(box[0:3672]),\n",
    "                 np.sum(box[3672:5206]),\n",
    "                 np.sum(box[5206:6837]),\n",
    "                 np.sum(box[6837:8516]),\n",
    "                 np.sum(box[8516:])]\n",
    "\n",
    "    sample_noclicks = [sample_no[i] - sample_clicks[i] for i  in range(5)]\n",
    "\n",
    "    observed_ = pd.DataFrame([sample_clicks, sample_noclicks],\n",
    "                            columns = versions_name,\n",
    "                            index = [\"Click\", \"No-click\"])\n",
    "    \n",
    "    R_ = (observed_ - expected)/np.sqrt(expected)\n",
    "    R_ = R_**2\n",
    "\n",
    "    chi_scores.append( R_.values.sum())"
   ]
  },
  {
   "cell_type": "code",
   "execution_count": 128,
   "metadata": {},
   "outputs": [
    {
     "data": {
      "text/plain": [
       "0"
      ]
     },
     "execution_count": 128,
     "metadata": {},
     "output_type": "execute_result"
    }
   ],
   "source": [
    "# find out how many of our generated samples have a test statistic that is greater than the one from our observed sample\n",
    "np.sum(chi_scores >= chi2observed)"
   ]
  },
  {
   "cell_type": "code",
   "execution_count": 129,
   "metadata": {},
   "outputs": [
    {
     "data": {
      "text/plain": [
       "0.0"
      ]
     },
     "execution_count": 129,
     "metadata": {},
     "output_type": "execute_result"
    }
   ],
   "source": [
    "# calculate the percentage represented by the generated values that are greater than the test statistic from our observed sample, compared to the entire number of samples.\n",
    "# The above is long for p-value.\n",
    "resampled_p_value = np.sum(chi_scores >= chi2observed) / len(chi_scores)\n",
    "resampled_p_value"
   ]
  }
 ],
 "metadata": {
  "kernelspec": {
   "display_name": "Python 3.9.12 ('base')",
   "language": "python",
   "name": "python3"
  },
  "language_info": {
   "codemirror_mode": {
    "name": "ipython",
    "version": 3
   },
   "file_extension": ".py",
   "mimetype": "text/x-python",
   "name": "python",
   "nbconvert_exporter": "python",
   "pygments_lexer": "ipython3",
   "version": "3.9.12"
  },
  "orig_nbformat": 4,
  "vscode": {
   "interpreter": {
    "hash": "49cb93f377a7abe7414b7b0f21fb3017538004a126cf690fb524202736b7fb92"
   }
  }
 },
 "nbformat": 4,
 "nbformat_minor": 2
}
